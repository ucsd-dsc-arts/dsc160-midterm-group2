{
 "cells": [
  {
   "cell_type": "code",
   "execution_count": 1,
   "metadata": {},
   "outputs": [],
   "source": [
    "import pandas as pd\n",
    "import numpy as np\n",
    "import matplotlib.pyplot as plt\n",
    "import plotly.graph_objects as go\n",
    "import os\n",
    "import warnings\n",
    "warnings.filterwarnings(\"ignore\")"
   ]
  },
  {
   "cell_type": "code",
   "execution_count": 2,
   "metadata": {},
   "outputs": [],
   "source": [
    "features = pd.read_csv(os.path.join(\"../../\",\"fma_metadata\", \"features.csv\"), index_col=[0], header=[0,1,2])\n",
    "\n",
    "tracks = pd.read_csv(os.path.join(\"../../\", \"fma_metadata\", \"tracks.csv\"), index_col=[0], header=[0,1])\n",
    "\n",
    "genres = pd.read_csv(os.path.join(\"../../\", \"fma_metadata\", \"genres.csv\"))"
   ]
  },
  {
   "cell_type": "markdown",
   "metadata": {},
   "source": [
    "### Genre Ids\n",
    "Rock 12\n",
    "\n",
    "Hiphop 21\n",
    "\n",
    "Electronic 15\n",
    "\n",
    "Folk 17"
   ]
  },
  {
   "cell_type": "code",
   "execution_count": 3,
   "metadata": {},
   "outputs": [],
   "source": [
    "AUDIO_DATA_PATH = '../../fma_small/'\n",
    "mp3s = []\n",
    "filenames = []\n",
    "for genre in os.listdir(AUDIO_DATA_PATH):\n",
    "    rel_path = AUDIO_DATA_PATH + genre\n",
    "    if os.path.isdir(rel_path):\n",
    "        mp3s += [int(bob.strip('.mp3')) for bob in os.listdir(rel_path)]\n",
    "        filenames += [rel_path + '/' + bob for bob in os.listdir(rel_path)]\n",
    "# all of the track ids that are in the small fma set\n",
    "\n",
    "in_small_bool = features.index.isin(mp3s)\n",
    "features = features[in_small_bool]\n",
    "tracks = tracks[in_small_bool]"
   ]
  },
  {
   "cell_type": "code",
   "execution_count": 4,
   "metadata": {},
   "outputs": [],
   "source": [
    "SAMPLE_SIZE = 400\n",
    "\n",
    "tracks['Rock'] = tracks.track.genres.apply(lambda x: True if ('12' in x and '21' not in x and '15' not in x and '17' not in x) else False )\n",
    "rock_feat = features[list(tracks['Rock'])].sample(SAMPLE_SIZE, random_state=0)\n",
    "rock_feat['genre'] = 'Rock'\n",
    "\n",
    "tracks['Hiphop'] = tracks.track.genres.apply(lambda x: True if ('12' not in x and '21' in x and '15' not in x and '17' not in x) else False )\n",
    "hop_feat = features[list(tracks['Hiphop'])].sample(SAMPLE_SIZE, random_state=0)\n",
    "hop_feat['genre'] = 'Hiphop'\n",
    "\n",
    "tracks['Electronic'] = tracks.track.genres.apply(lambda x: True if ('12' not in x and '21' not in x and '15' in x and '17' not in x) else False )\n",
    "elec_feat = features[list(tracks['Electronic'])].sample(SAMPLE_SIZE, random_state=0)\n",
    "elec_feat['genre'] = 'Electronic'\n",
    "\n",
    "tracks['Folk'] = tracks.track.genres.apply(lambda x: True if ('12' not in x and '21' not in x and '15' not in x and '17' in x) else False )\n",
    "folk_feat = features[list(tracks['Folk'])].sample(SAMPLE_SIZE, random_state=0)\n",
    "folk_feat['genre'] = 'Folk'\n",
    "\n",
    "sampled_features = pd.concat([rock_feat, hop_feat, elec_feat, folk_feat])"
   ]
  },
  {
   "cell_type": "code",
   "execution_count": 5,
   "metadata": {},
   "outputs": [],
   "source": [
    "sampled_features.to_csv('../data/sampled_features.csv', index = True)"
   ]
  }
 ],
 "metadata": {
  "kernelspec": {
   "display_name": "Python 3",
   "language": "python",
   "name": "python3"
  },
  "language_info": {
   "codemirror_mode": {
    "name": "ipython",
    "version": 3
   },
   "file_extension": ".py",
   "mimetype": "text/x-python",
   "name": "python",
   "nbconvert_exporter": "python",
   "pygments_lexer": "ipython3",
   "version": "3.7.3"
  }
 },
 "nbformat": 4,
 "nbformat_minor": 2
}
